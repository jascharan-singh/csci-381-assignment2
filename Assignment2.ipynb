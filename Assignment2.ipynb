{
    "metadata": {
        "kernelspec": {
            "name": "SQL",
            "display_name": "SQL",
            "language": "sql"
        },
        "language_info": {
            "name": "sql",
            "version": ""
        }
    },
    "nbformat_minor": 2,
    "nbformat": 4,
    "cells": [
        {
            "cell_type": "markdown",
            "source": [
                "# jascharan "
            ],
            "metadata": {
                "azdata_cell_guid": "cb3dfac1-1433-43ca-aa57-0edb90ca7c71"
            },
            "attachments": {}
        },
        {
            "cell_type": "markdown",
            "source": [
                "## ![](data:image/png;base64,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)\n",
                "\n",
                "## Proposition \n",
                "\n",
                "List all customers along with the total number of orders they have placed, including customers with no orders.\n",
                "\n",
                "### Functional Specification\n",
                "\n",
                "1. **Input**:\n",
                "    \n",
                "    - `Customers` table containing customer information (`CustomerID`, `CustomerName`).\n",
                "    - `Orders` table containing order information (`OrderID`, `CustomerID`).\n",
                "2. **Process**:\n",
                "    \n",
                "    - Perform a left join on the `Customers` table and the `Orders` table using the `CustomerID` as the key.\n",
                "    - Count the total number of orders for each customer.\n",
                "    - Include customers with no orders in the result set, displaying a count of zero.\n",
                "3. **Output**:\n",
                "    \n",
                "    - A list of all customers, including:\n",
                "        - `CustomerID`\n",
                "        - `CustomerName`\n",
                "        - `TotalOrders` (count of orders for each customer)"
            ],
            "metadata": {
                "language": "sql",
                "azdata_cell_guid": "53c2171b-0c4e-45e5-987e-ab13409e901f"
            },
            "attachments": {}
        },
        {
            "cell_type": "code",
            "source": [
                "--Proposition 1: Find all customers and their total number of orders.\n",
                "use NewWideWorldImporters;\n",
                "go\n",
                "SELECT C.CustomerID, C.CustomerName, COUNT(O.OrderID) AS TotalOrders\n",
                "FROM Sales.Customers AS C\n",
                "LEFT JOIN Sales.Orders AS O ON C.CustomerID = O.CustomerID\n",
                "GROUP BY C.CustomerID, C.CustomerName;\n",
                ""
            ],
            "metadata": {
                "azdata_cell_guid": "22db8734-b8ab-4847-bc0f-1eb77f683cc4",
                "language": "sql"
            },
            "outputs": [],
            "execution_count": null
        },
        {
            "cell_type": "markdown",
            "source": [
                "## Proposition\n",
                "\n",
                "List all invoices along with their total amount by summing up the quantity and unit price of each line item in the invoice.\n",
                "\n",
                "### Objective: Retrieve invoice IDs, invoice dates, and the total amount for each invoice.\n",
                "\n",
                "### Tables Involved: \\`Invoices\\`, \\`InvoiceLines\\`\n",
                "\n",
                "###  Conditions: Group the results by \\`InvoiceID\\` and \\`InvoiceDate\\`.\n",
                "\n",
                "## Functional Specification\n",
                "\n",
                "### Query Name: List Invoice Totals\n",
                "\n",
                "### Description\n",
                "This query retrieves a summary of each invoice, including its ID, date, and total amount. The total amount for each invoice is calculated by multiplying the quantity of each line item by its unit price and summing these values for each invoice.\n",
                "\n",
                "### Inputs\n",
                "- `Sales.Invoices`: Contains invoice data, including `InvoiceID` and `InvoiceDate`.\n",
                "- `Sales.InvoiceLines`: Contains line items for invoices, including `InvoiceID`, `Quantity`, and `UnitPrice`.\n",
                "\n",
                "### Outputs\n",
                "- `InvoiceID`: The unique identifier of the invoice.\n",
                "- `InvoiceDate`: The date the invoice was created.\n",
                "- `TotalAmount`: The total amount of the invoice, calculated as the sum of (Quantity * UnitPrice) for each line item.\n",
                "\n",
                "### Steps\n",
                "1. Select `InvoiceID` and `InvoiceDate` from the `Invoices` table.\n",
                "2. Join the `Invoices` table with the `InvoiceLines` table on `InvoiceID`.\n",
                "3. Calculate the total amount for each invoice by summing the product of `Quantity` and `UnitPrice`.\n",
                "4. Group the results by `InvoiceID` and `InvoiceDate`.\n",
                "\n",
                "### Assumptions\n",
                "- Each invoice contains at least one line item.\n",
                "- The `Quantity` and `UnitPrice` in `InvoiceLines` are valid numeric values.\n",
                "\n",
                "### Example Output\n",
                "| InvoiceID | InvoiceDate | TotalAmount |\n",
                "|-----------|-------------|-------------|\n",
                "| 1001      | 2024-09-01  | 500.00      |\n",
                "| 1002      | 2024-09-05  | 1200.00     |\n",
                ""
            ],
            "metadata": {
                "azdata_cell_guid": "2ab680de-1965-4b43-bd78-674fa529564d"
            },
            "attachments": {}
        },
        {
            "cell_type": "code",
            "source": [
                "SELECT I.InvoiceID, I.InvoiceDate, SUM(IL.Quantity * IL.UnitPrice) AS TotalAmount\n",
                "FROM Sales.Invoices AS I\n",
                "INNER JOIN Sales.InvoiceLines AS IL ON I.InvoiceID = IL.InvoiceID\n",
                "GROUP BY I.InvoiceID, I.InvoiceDate;"
            ],
            "metadata": {
                "azdata_cell_guid": "15805289-ba69-49d7-8712-01619fb630f0",
                "language": "sql"
            },
            "outputs": [],
            "execution_count": null
        },
        {
            "cell_type": "markdown",
            "source": [
                "### Proposition\n",
                "Find all products (stock items) that have been sold along with their total quantities sold.\n",
                "\n",
                "### Functional Specification\n",
                "\n",
                "**Query Name:** `TotalQuantitySoldPerStockItem`\n",
                "\n",
                "**Description:** This query retrieves each stock item from the warehouse and calculates the total quantity sold for each item by joining the `StockItems` and `OrderLines` tables. It then groups the data by `StockItemID` and `StockItemName`.\n",
                "\n",
                "**Inputs:**\n",
                "- `Warehouse.StockItems`: Table containing details of stock items.\n",
                "- `Sales.OrderLines`: Table containing details of order lines including quantities sold.\n",
                "\n",
                "**Outputs:**\n",
                "- `StockItemID`: The unique identifier for each stock item.\n",
                "- `StockItemName`: The name of the stock item.\n",
                "- `TotalQuantitySold`: The total quantity of each stock item sold.\n",
                "\n",
                "**Steps:**\n",
                "1. Select `StockItemID` and `StockItemName` from the `StockItems` table.\n",
                "2. Join the `StockItems` table with the `OrderLines` table on `StockItemID`.\n",
                "3. Calculate the total quantity sold for each stock item using the `SUM` function on the `Quantity` column from the `OrderLines` table.\n",
                "4. Group the results by `StockItemID` and `StockItemName` to get a total for each stock item.\n",
                "\n",
                "**Assumptions:**\n",
                "- Each stock item in the `OrderLines` table is a valid item listed in the `StockItems` table.\n",
                "- Quantity values in `OrderLines` are non-negative integers representing the number of units sold.\n",
                "\n",
                "**Example Output:**\n",
                "| StockItemID | StockItemName | TotalQuantitySold |\n",
                "|-------------|---------------|-------------------|\n",
                "| 1           | Item A        | 150               |\n",
                "| 2           | Item B        | 300               |"
            ],
            "metadata": {
                "azdata_cell_guid": "25c1c6ea-c9e8-457c-ae44-573704dda904"
            },
            "attachments": {}
        },
        {
            "cell_type": "code",
            "source": [
                "SELECT SI.StockItemID, SI.StockItemName, SUM(OL.Quantity) AS TotalQuantitySold\n",
                "FROM Warehouse.StockItems AS SI\n",
                "INNER JOIN Sales.OrderLines AS OL ON SI.StockItemID = OL.StockItemID\n",
                "GROUP BY SI.StockItemID, SI.StockItemName;"
            ],
            "metadata": {
                "azdata_cell_guid": "936d57cb-e095-4467-9f32-d6b6853a707a",
                "language": "sql"
            },
            "outputs": [],
            "execution_count": null
        },
        {
            "cell_type": "markdown",
            "source": [
                "## Proposition\n",
                "Retrieve the total amount spent by each customer.\n",
                "\n",
                "## Functional Specification\n",
                "\n",
                "### Query Name\n",
                "TotalSpentByCustomer\n",
                "\n",
                "### Description\n",
                "This query calculates the total amount spent by each customer by summing the product of quantity and unit price for each order line. It groups the data by customer and returns the results in descending order of total spent.\n",
                "\n",
                "### Inputs\n",
                "- **Customers**: Contains customer information (`CustomerID`, `CustomerName`).\n",
                "- **Orders**: Contains order information (`OrderID`, `CustomerID`).\n",
                "- **OrderLines**: Contains order line details (`OrderID`, `Quantity`, `UnitPrice`).\n",
                "\n",
                "### Outputs\n",
                "- **CustomerID**: Unique identifier for the customer.\n",
                "- **CustomerName**: Name of the customer.\n",
                "- **TotalSpent**: Total amount the customer has spent, calculated as the sum of quantity multiplied by unit price for all of their orders.\n",
                "\n",
                "### Steps\n",
                "1. Select `CustomerID` and `CustomerName` from the `Customers` table.\n",
                "2. Join the `Orders` table with `Customers` using `CustomerID`.\n",
                "3. Join the `OrderLines` table with `Orders` using `OrderID`.\n",
                "4. Calculate the total amount spent by multiplying `Quantity` with `UnitPrice` for each order line.\n",
                "5. Group the results by `CustomerID` and `CustomerName`.\n",
                "6. Order the results by `TotalSpent` in descending order.\n",
                "\n",
                "### Assumptions\n",
                "- Every customer has at least one order.\n",
                "- Each order has at least one associated order line.\n",
                "- There are no negative values for quantity or unit price.\n",
                "\n",
                "### Example Output\n",
                "| CustomerID | CustomerName | TotalSpent |\n",
                "|------------|--------------|------------|\n",
                "| 101        | John Doe     | 1500.00    |\n",
                "| 202        | Jane Smith   | 1200.50    |\n",
                "| 303        | Alice Brown  | 900.75     |"
            ],
            "metadata": {
                "azdata_cell_guid": "a6c4f446-68b3-447a-8630-7e60249f510f"
            },
            "attachments": {}
        },
        {
            "cell_type": "code",
            "source": [
                "SELECT C.CustomerID, C.CustomerName, SUM(OL.Quantity * OL.UnitPrice) AS TotalSpent\n",
                "FROM Sales.Customers AS C\n",
                "INNER JOIN Sales.Orders AS O ON C.CustomerID = O.CustomerID\n",
                "INNER JOIN Sales.OrderLines AS OL ON O.OrderID = OL.OrderID\n",
                "GROUP BY C.CustomerID, C.CustomerName\n",
                "ORDER BY TotalSpent DESC;"
            ],
            "metadata": {
                "azdata_cell_guid": "5a3bca6a-9107-4790-90af-600ac4c6ad21",
                "language": "sql"
            },
            "outputs": [],
            "execution_count": null
        },
        {
            "cell_type": "markdown",
            "source": [
                "## Proposition\n",
                "List all customer transactions along with their transaction amount and date.\n",
                "\n",
                "## Functional Specification\n",
                "\n",
                "### Query Name\n",
                "List_Customer_Transactions\n",
                "\n",
                "### Description\n",
                "This query retrieves all customer transactions, including the transaction ID, customer name, transaction amount, and transaction date, from the `Sales.CustomerTransactions` and `Sales.Customers` tables.\n",
                "\n",
                "### Inputs\n",
                "- `Sales.CustomerTransactions` table\n",
                "- `Sales.Customers` table\n",
                "\n",
                "### Outputs\n",
                "- `CustomerTransactionID` - The unique identifier for each customer transaction.\n",
                "- `CustomerName` - The name of the customer associated with the transaction.\n",
                "- `TransactionAmount` - The amount for the specific transaction.\n",
                "- `TransactionDate` - The date when the transaction took place.\n",
                "\n",
                "### Steps\n",
                "1. Perform an inner join between the `Sales.CustomerTransactions` (`CT`) table and the `Sales.Customers` (`C`) table using the `CustomerID` as the common key.\n",
                "2. Select the following columns:\n",
                "   - `CT.CustomerTransactionID`\n",
                "   - `C.CustomerName`\n",
                "   - `CT.TransactionAmount`\n",
                "   - `CT.TransactionDate`\n",
                "\n",
                "### Assumptions\n",
                "- Each transaction in the `Sales.CustomerTransactions` table is linked to a valid customer in the `Sales.Customers` table.\n",
                "- `CustomerID` uniquely identifies each customer in the `Sales.Customers` table.\n",
                "\n",
                "### Example Output\n",
                "| CustomerTransactionID | CustomerName | TransactionAmount | TransactionDate |\n",
                "|-----------------------|--------------|-------------------|-----------------|\n",
                "| 101                   | John Doe     | 500.00            | 2024-09-30      |\n",
                "| 102                   | Jane Smith   | 250.00            | 2024-09-29      |"
            ],
            "metadata": {
                "azdata_cell_guid": "0f993d98-a46a-420e-a2b2-4efa8ebc0819"
            },
            "attachments": {}
        },
        {
            "cell_type": "code",
            "source": [
                "SELECT CT.CustomerTransactionID, C.CustomerName, CT.TransactionAmount, CT.TransactionDate\n",
                "FROM Sales.CustomerTransactions AS CT\n",
                "INNER JOIN Sales.Customers AS C ON CT.CustomerID = C.CustomerID;\n",
                ""
            ],
            "metadata": {
                "azdata_cell_guid": "99eb1495-4aba-4bc2-953d-6906860868c9",
                "language": "sql"
            },
            "outputs": [],
            "execution_count": null
        },
        {
            "cell_type": "markdown",
            "source": [
                "## Proposition\n",
                "Find the top-selling product (stock item) by total quantity sold.\n",
                "\n",
                "## Functional Specification\n",
                "\n",
                "### Query Name\n",
                "Top_Selling_Product\n",
                "\n",
                "### Description\n",
                "This query retrieves the stock item with the highest total quantity sold.\n",
                "\n",
                "### Inputs\n",
                "- **Warehouse.StockItems**: The table containing details of all stock items.\n",
                "- **Sales.OrderLines**: The table containing order details, including quantities of stock items sold.\n",
                "\n",
                "### Outputs\n",
                "- **StockItemID**: The ID of the top-selling stock item.\n",
                "- **StockItemName**: The name of the top-selling stock item.\n",
                "- **TotalQuantitySold**: The total quantity sold for this stock item.\n",
                "\n",
                "### Steps\n",
                "1. Select the `StockItemID` and `StockItemName` from the `Warehouse.StockItems` table.\n",
                "2. Join the `Sales.OrderLines` table on the `StockItemID` to link stock items with their sales data.\n",
                "3. Group the results by `StockItemID` and `StockItemName`.\n",
                "4. Calculate the sum of the quantities sold (`TotalQuantitySold`) for each stock item.\n",
                "5. Order the results by `TotalQuantitySold` in descending order.\n",
                "6. Select the top result to get the stock item with the highest total quantity sold.\n",
                "\n",
                "### Assumptions\n",
                "- The query assumes there is at least one record in the `OrderLines` table for a stock item.\n",
                "- If there are ties for the top quantity, only one will be selected arbitrarily due to `TOP 1`.\n",
                "\n",
                "### Example Output\n",
                "| StockItemID | StockItemName      | TotalQuantitySold |\n",
                "|-------------|--------------------|-------------------|\n",
                "| 1           | Blue T-shirt       | 500               |\n",
                ""
            ],
            "metadata": {
                "azdata_cell_guid": "2841c163-c9d7-45c4-aa94-7874519eb8af"
            },
            "attachments": {}
        },
        {
            "cell_type": "code",
            "source": [
                "SELECT TOP 1 SI.StockItemID, SI.StockItemName, SUM(OL.Quantity) AS TotalQuantitySold\n",
                "FROM Warehouse.StockItems AS SI\n",
                "INNER JOIN Sales.OrderLines AS OL ON SI.StockItemID = OL.StockItemID\n",
                "GROUP BY SI.StockItemID, SI.StockItemName\n",
                "ORDER BY TotalQuantitySold DESC;\n",
                ""
            ],
            "metadata": {
                "azdata_cell_guid": "000ef1b4-8efd-4b08-b123-44388b79f48e",
                "language": "sql"
            },
            "outputs": [],
            "execution_count": null
        },
        {
            "cell_type": "markdown",
            "source": [
                "## Proposition\n",
                "Find the top 5 customers with the highest number of orders.\n",
                "\n",
                "## Functional Specification\n",
                "\n",
                "### Query Name\n",
                "Top 5 Customers by Total Orders\n",
                "\n",
                "### Description\n",
                "This query retrieves the top 5 customers based on the total number of orders they have placed. It displays the customer ID, customer name, and the total number of orders for each of the top customers in descending order.\n",
                "\n",
                "### Inputs\n",
                "- None\n",
                "\n",
                "### Outputs\n",
                "- **CustomerID**: Unique identifier for each customer.\n",
                "- **CustomerName**: Name of the customer.\n",
                "- **TotalOrders**: Total count of orders placed by the customer.\n",
                "\n",
                "### Steps\n",
                "1. Select the `CustomerID` and `CustomerName` from the `Sales.Customers` table.\n",
                "2. Join the `Sales.Customers` table with the `Sales.Orders` table using `CustomerID`.\n",
                "3. Group the results by `CustomerID` and `CustomerName`.\n",
                "4. Calculate the total number of orders for each customer using `COUNT`.\n",
                "5. Sort the results in descending order based on the total number of orders.\n",
                "6. Limit the results to the top 5 customers.\n",
                "\n",
                "### Assumptions\n",
                "- Every customer in the `Sales.Orders` table is present in the `Sales.Customers` table.\n",
                "- Each order has a valid `CustomerID` associated with it.\n",
                "\n",
                "### Example Output\n",
                "| CustomerID | CustomerName       | TotalOrders |\n",
                "|------------|--------------------|-------------|\n",
                "| 123        | John Doe           | 15          |\n",
                "| 456        | Jane Smith         | 12          |\n",
                "| 789        | Robert Johnson     | 10          |\n",
                "| 101        | Emily Davis        | 8           |\n",
                "| 112        | Michael Brown      | 7           |"
            ],
            "metadata": {
                "azdata_cell_guid": "2964b6d2-0f01-4a35-9a7c-8b3e1a80141e"
            },
            "attachments": {}
        },
        {
            "cell_type": "code",
            "source": [
                "SELECT TOP 5 C.CustomerID, C.CustomerName, COUNT(O.OrderID) AS TotalOrders\n",
                "FROM Sales.Customers AS C\n",
                "INNER JOIN Sales.Orders AS O ON C.CustomerID = O.CustomerID\n",
                "GROUP BY C.CustomerID, C.CustomerName\n",
                "ORDER BY TotalOrders DESC;\n",
                ""
            ],
            "metadata": {
                "azdata_cell_guid": "ee034295-76e0-46a5-a5ec-625425b68030",
                "language": "sql"
            },
            "outputs": [],
            "execution_count": null
        },
        {
            "cell_type": "markdown",
            "source": [
                "## Proposition\n",
                "Calculate the average unit price for each stock group.\n",
                "\n",
                "## Functional Specification\n",
                "\n",
                "### Query Name\n",
                "Average Unit Price per Stock Group\n",
                "\n",
                "### Description\n",
                "This query retrieves the average unit price for each stock group in the warehouse. It joins three tables (`StockGroups`, `StockItemStockGroups`, and `StockItems`) to calculate the average unit price for items within each group.\n",
                "\n",
                "### Inputs\n",
                "- None\n",
                "\n",
                "### Outputs\n",
                "- `StockGroupID`: Unique identifier for each stock group.\n",
                "- `StockGroupName`: Name of the stock group.\n",
                "- `AverageUnitPrice`: The average unit price of items within each stock group.\n",
                "\n",
                "### Steps\n",
                "1. Select the `StockGroupID` and `StockGroupName` from the `Warehouse.StockGroups` table.\n",
                "2. Join the `Warehouse.StockItemStockGroups` table on the `StockGroupID`.\n",
                "3. Join the `Warehouse.StockItems` table on the `StockItemID` to retrieve the unit prices.\n",
                "4. Group the results by `StockGroupID` and `StockGroupName`.\n",
                "5. Calculate the average unit price for each stock group using the `AVG()` function.\n",
                "\n",
                "### Assumptions\n",
                "- All stock items have a unit price.\n",
                "- Each stock item belongs to at least one stock group.\n",
                "\n",
                "### Example Output\n",
                "| StockGroupID | StockGroupName | AverageUnitPrice |\n",
                "|--------------|----------------|------------------|\n",
                "| 1            | Electronics    | 199.99           |\n",
                "| 2            | Furniture      | 499.50           |\n",
                "| 3            | Clothing       | 29.99            |"
            ],
            "metadata": {
                "azdata_cell_guid": "eface7e7-e6ef-428e-9ac7-1bbf37217d28"
            },
            "attachments": {}
        },
        {
            "cell_type": "code",
            "source": [
                "SELECT SG.StockGroupID, SG.StockGroupName, AVG(SI.UnitPrice) AS AverageUnitPrice\n",
                "FROM Warehouse.StockGroups AS SG\n",
                "INNER JOIN Warehouse.StockItemStockGroups AS SISG ON SG.StockGroupID = SISG.StockGroupID\n",
                "INNER JOIN Warehouse.StockItems AS SI ON SISG.StockItemID = SI.StockItemID\n",
                "GROUP BY SG.StockGroupID, SG.StockGroupName;\n",
                ""
            ],
            "metadata": {
                "azdata_cell_guid": "94bcc225-c069-457f-9a12-934c4e164506",
                "language": "sql"
            },
            "outputs": [],
            "execution_count": null
        },
        {
            "cell_type": "markdown",
            "source": [
                "## Proposition\n",
                "Find all customers along with their total number of transactions.\n",
                "\n",
                "## Functional Specification\n",
                "\n",
                "### Query Name\n",
                "**Customer_Transaction_Count**\n",
                "\n",
                "### Description\n",
                "This query retrieves each customer's ID and name, along with the total count of their transactions. It joins the `Customers` and `CustomerTransactions` tables to get the relevant transaction count for each customer.\n",
                "\n",
                "### Inputs\n",
                "- **Customers Table**: Contains customer information such as `CustomerID` and `CustomerName`.\n",
                "- **CustomerTransactions Table**: Contains transaction details linked to each customer by `CustomerID`.\n",
                "\n",
                "### Outputs\n",
                "- **CustomerID**: Unique identifier for each customer.\n",
                "- **CustomerName**: Name of the customer.\n",
                "- **TransactionCount**: Total number of transactions for each customer.\n",
                "\n",
                "### Steps\n",
                "1. Select `CustomerID` and `CustomerName` from the `Customers` table.\n",
                "2. Join the `Customers` table with the `CustomerTransactions` table using `CustomerID`.\n",
                "3. Use `COUNT` to calculate the total number of transactions for each customer.\n",
                "4. Group the results by `CustomerID` and `CustomerName`.\n",
                "\n",
                "### Assumptions\n",
                "- Each customer has a unique `CustomerID`.\n",
                "- The `CustomerTransactions` table may contain multiple entries per customer.\n",
                "\n",
                "### Example Output\n",
                "| CustomerID | CustomerName | TransactionCount |\n",
                "|------------|--------------|------------------|\n",
                "| 1          | John Doe     | 5                |\n",
                "| 2          | Jane Smith   | 3                |\n",
                "| 3          | Alice Jones  | 7                |"
            ],
            "metadata": {
                "azdata_cell_guid": "7dfda062-96b2-4fc4-bf93-2387d86da03c"
            },
            "attachments": {}
        },
        {
            "cell_type": "code",
            "source": [
                "SELECT C.CustomerID, C.CustomerName, COUNT(CT.CustomerTransactionID) AS TransactionCount\n",
                "FROM Sales.Customers AS C\n",
                "INNER JOIN Sales.CustomerTransactions AS CT ON C.CustomerID = CT.CustomerID\n",
                "GROUP BY C.CustomerID, C.CustomerName;"
            ],
            "metadata": {
                "azdata_cell_guid": "592c5ee3-511c-4efa-aaf2-bcebed360a2f",
                "language": "sql"
            },
            "outputs": [],
            "execution_count": null
        },
        {
            "cell_type": "markdown",
            "source": [
                "## Proposition\n",
                "Find the average order value for each customer by calculating the average of the total amount spent on all orders.\n",
                "\n",
                "## Functional Specification\n",
                "\n",
                "### Query Name\n",
                "`AvgOrderValuePerCustomer`\n",
                "\n",
                "### Description\n",
                "This query retrieves the average order value for each customer. It joins the customers, orders, and order lines tables to compute the average value of all orders placed by each customer.\n",
                "\n",
                "### Inputs\n",
                "- `Sales.Customers`: Contains customer information.\n",
                "- `Sales.Orders`: Contains order information, linked to customers.\n",
                "- `Sales.OrderLines`: Contains details of each product in an order, including quantity and unit price.\n",
                "\n",
                "### Outputs\n",
                "- `CustomerID`: Unique identifier for each customer.\n",
                "- `CustomerName`: The name of the customer.\n",
                "- `AvgOrderValue`: The average order value for the customer, calculated based on the total amounts of all orders.\n",
                "\n",
                "### Steps\n",
                "1. Join `Sales.Customers` with `Sales.Orders` on `CustomerID`.\n",
                "2. Join `Sales.Orders` with `Sales.OrderLines` on `OrderID`.\n",
                "3. Calculate the total amount for each order line by multiplying `Quantity` with `UnitPrice`.\n",
                "4. Group the results by `CustomerID` and `CustomerName`.\n",
                "5. Calculate the average of the total amounts for each customer.\n",
                "\n",
                "### Assumptions\n",
                "- Each order has one or more order lines.\n",
                "- Customers with no orders are excluded from the result.\n",
                "\n",
                "### Example Output\n",
                "| CustomerID | CustomerName | AvgOrderValue |\n",
                "|------------|--------------|---------------|\n",
                "| 1          | John Doe     | 150.75        |\n",
                "| 2          | Jane Smith   | 210.50        |"
            ],
            "metadata": {
                "azdata_cell_guid": "9cca6c30-828c-4462-bcf4-3bea614195f3"
            },
            "attachments": {}
        },
        {
            "cell_type": "code",
            "source": [
                "SELECT C.CustomerID, C.CustomerName, AVG(OL.Quantity * OL.UnitPrice) AS AvgOrderValue\n",
                "FROM Sales.Customers AS C\n",
                "INNER JOIN Sales.Orders AS O ON C.CustomerID = O.CustomerID\n",
                "INNER JOIN Sales.OrderLines AS OL ON O.OrderID = OL.OrderID\n",
                "GROUP BY C.CustomerID, C.CustomerName;"
            ],
            "metadata": {
                "azdata_cell_guid": "893099fd-8274-45a0-a292-aa709f5940c6",
                "language": "sql"
            },
            "outputs": [],
            "execution_count": null
        },
        {
            "cell_type": "markdown",
            "source": [
                "## Proposition\n",
                "Find all customers along with the total amount they have spent on orders.\n",
                "\n",
                "## Functional Specification\n",
                "\n",
                "### Query Name\n",
                "Customer_Total_Spent\n",
                "\n",
                "### Description\n",
                "This query retrieves the total amount spent by each customer by summing up the quantities of products ordered and their respective unit prices. It then lists the customers in descending order of their total spending.\n",
                "\n",
                "### Inputs\n",
                "- `Sales.Customers`: Table containing customer information (`CustomerID`, `CustomerName`).\n",
                "- `Sales.Orders`: Table containing order information (`OrderID`, `CustomerID`).\n",
                "- `Sales.OrderLines`: Table containing order line details (`OrderID`, `Quantity`, `UnitPrice`).\n",
                "\n",
                "### Outputs\n",
                "- `CustomerID`: The unique identifier for each customer.\n",
                "- `CustomerName`: The name of each customer.\n",
                "- `TotalSpent`: The total amount each customer has spent on their orders.\n",
                "\n",
                "### Steps\n",
                "1. Select `CustomerID` and `CustomerName` from the `Sales.Customers` table.\n",
                "2. Join the `Sales.Orders` table to get the orders placed by each customer using `CustomerID`.\n",
                "3. Join the `Sales.OrderLines` table to get the product details of each order using `OrderID`.\n",
                "4. Calculate the total amount spent by multiplying `Quantity` and `UnitPrice` for each order line.\n",
                "5. Sum the total spending for each customer using `GROUP BY`.\n",
                "6. Order the result in descending order of `TotalSpent`.\n",
                "\n",
                "### Assumptions\n",
                "- Each order contains one or more order lines with a valid `Quantity` and `UnitPrice`.\n",
                "- The `CustomerID` and `OrderID` are unique identifiers in their respective tables.\n",
                "\n",
                "### Example Output\n",
                "| CustomerID | CustomerName | TotalSpent |\n",
                "|------------|--------------|------------|\n",
                "| 1          | John Doe     | 1500.00    |\n",
                "| 2          | Jane Smith   | 1200.00    |\n",
                "| 3          | Alice Brown  | 800.00     |"
            ],
            "metadata": {
                "azdata_cell_guid": "ffc12aed-aeea-411e-8aeb-a879ea9b48e6"
            },
            "attachments": {}
        },
        {
            "cell_type": "code",
            "source": [
                "SELECT C.CustomerID, C.CustomerName, SUM(OL.Quantity * OL.UnitPrice) AS TotalSpent\n",
                "FROM Sales.Customers AS C\n",
                "INNER JOIN Sales.Orders AS O ON C.CustomerID = O.CustomerID\n",
                "INNER JOIN Sales.OrderLines AS OL ON O.OrderID = OL.OrderID\n",
                "GROUP BY C.CustomerID, C.CustomerName\n",
                "ORDER BY TotalSpent DESC;"
            ],
            "metadata": {
                "azdata_cell_guid": "6e3f53b1-04da-443f-a063-26ce1529850e",
                "language": "sql"
            },
            "outputs": [],
            "execution_count": null
        }
    ]
}